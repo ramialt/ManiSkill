{
 "cells": [
  {
   "cell_type": "code",
   "execution_count": null,
   "metadata": {},
   "outputs": [],
   "source": [
    "import numpy as np\n",
    "import matplotlib.pyplot as plt\n",
    "import json\n",
    "import os\n",
    "\n",
    "np.set_printoptions(precision=4, suppress=True)"
   ]
  },
  {
   "cell_type": "code",
   "execution_count": null,
   "metadata": {},
   "outputs": [],
   "source": [
    "# Bunch of final eval metrics with 128 eval environments\n",
    "default = [0.90395, 0.98178]#, 0.98635]\n",
    "goalback = [0.99132, 0.96847]\n",
    "no_goalthresh = [0.97566, 0.98600]\n",
    "rotstick = [0.93059, 0.94231]\n",
    "step50 = 0.88560\n",
    "rew2x = 0.92954\n",
    "print(\"default --\", \"mean:\", np.mean(default), \"-- std:\", np.std(default))\n",
    "print(\"goalback --\", \"mean:\", np.mean(goalback), \"-- std:\", np.std(goalback))\n",
    "print(\"no_goalthresh --\", \"mean:\", np.mean(no_goalthresh), \"-- std:\", np.std(no_goalthresh))\n",
    "print(\"rotstick --\", \"mean:\", np.mean(rotstick), \"-- std:\", np.std(rotstick))"
   ]
  },
  {
   "cell_type": "code",
   "execution_count": null,
   "metadata": {},
   "outputs": [],
   "source": [
    "folder_path = \"runs/eval_success_rate\"\n",
    "default_run_name = \"goaldirrew_1xgoalposrew_loose_push_thresh_binary_addstateabs\"\n",
    "# run_name = \"goalback7cm_goaldir_1x_loose_thresh_abs\"\n",
    "# run_name = \"no_goaldir_thresh_1xrew_loose_push_thresh_binary_addstateabs\"\n",
    "run_name = \"rotstick45_goaldir_1x_loose_thresh_abs\"\n",
    "# # run_name = \"step50_goaldir_1x_loose_thresh_abs\"\n",
    "\n",
    "default_data = []\n",
    "for suffix in [\"\", \"2\", \"3\"]:\n",
    "    filepath = os.path.join(folder_path, default_run_name + suffix + '.json')\n",
    "    with open(filepath, 'r') as f:\n",
    "        default_data.append(json.load(f))\n",
    "default_data = [np.array(x)[:, 1:] for x in default_data] # remove timestamps\n",
    "default_data[0] = default_data[0][default_data[0][:, 0] <= 100_000_000]\n",
    "\n",
    "data = []\n",
    "for suffix in [\"\", \"2\"]:\n",
    "    filepath = os.path.join(folder_path, run_name + suffix + '.json')\n",
    "    with open(filepath, 'r') as f:\n",
    "        data.append(json.load(f))\n",
    "data = [np.array(x)[:, 1:] for x in data] # remove timestamps\n",
    "data[0] = data[0][data[0][:, 0] <= 100_000_000]\n",
    "\n",
    "# last_step = [x[-1, 1] for x in default_data]\n",
    "# print(\"mean:\", np.mean(last_step), \"-- std:\", np.std(last_step))"
   ]
  },
  {
   "cell_type": "code",
   "execution_count": null,
   "metadata": {},
   "outputs": [],
   "source": [
    "fig, ax = plt.subplots()\n",
    "ax.set_xlabel(\"Environment steps\")\n",
    "ax.set_ylabel(\"Success rate\")\n",
    "mean_default = np.mean(np.array(default_data), axis=0)\n",
    "ax.plot(mean_default[:, 0], mean_default[:, 1], color=\"blue\", label=\"Default\")\n",
    "\n",
    "# ax.plot(default_data[0][:, 0], default_data[0][:, 1], color=\"red\", label=\"Default\")\n",
    "mean_other = np.mean(np.array(data), axis=0)\n",
    "ax.plot(mean_other[:, 0], mean_other[:, 1], color=\"red\", label=\"Remove heading threshold\")\n",
    "# for i in range(len(data)):\n",
    "#     ax.plot(data[i][:, 0], data[i][:, 1], label=\"other\")\n",
    "ax.set_title(\"Success rate\")\n",
    "ax.legend()\n",
    "fig.tight_layout()\n",
    "# fig.savefig(\"figures/success_rate.png\")\n",
    "fig.savefig(\"figures/test.png\")\n",
    "plt.show()"
   ]
  }
 ],
 "metadata": {
  "language_info": {
   "name": "python"
  }
 },
 "nbformat": 4,
 "nbformat_minor": 2
}
